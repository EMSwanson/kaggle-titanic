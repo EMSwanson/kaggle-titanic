{
 "cells": [
  {
   "cell_type": "code",
   "execution_count": 117,
   "metadata": {},
   "outputs": [],
   "source": [
    "import os\n",
    "import pandas as pd\n",
    "import numpy as np\n",
    "from sklearn.ensemble import RandomForestClassifier\n",
    "from sklearn.model_selection import GridSearchCV\n",
    "from sklearn.preprocessing import PolynomialFeatures\n",
    "from sklearn.preprocessing import RobustScaler\n",
    "from sklearn.impute import SimpleImputer\n",
    "from sklearn.pipeline import Pipeline\n",
    "\n",
    "\n",
    "train = pd.read_csv('input/train.csv')\n",
    "test = pd.read_csv('input/test.csv')"
   ]
  },
  {
   "cell_type": "code",
   "execution_count": 118,
   "metadata": {
    "scrolled": true
   },
   "outputs": [
    {
     "name": "stdout",
     "output_type": "stream",
     "text": [
      "       PassengerId    Survived      Pclass         Age       SibSp  \\\n",
      "count   891.000000  891.000000  891.000000  714.000000  891.000000   \n",
      "mean    446.000000    0.383838    2.308642   29.699118    0.523008   \n",
      "std     257.353842    0.486592    0.836071   14.526497    1.102743   \n",
      "min       1.000000    0.000000    1.000000    0.420000    0.000000   \n",
      "25%     223.500000    0.000000    2.000000   20.125000    0.000000   \n",
      "50%     446.000000    0.000000    3.000000   28.000000    0.000000   \n",
      "75%     668.500000    1.000000    3.000000   38.000000    1.000000   \n",
      "max     891.000000    1.000000    3.000000   80.000000    8.000000   \n",
      "\n",
      "            Parch        Fare  \n",
      "count  891.000000  891.000000  \n",
      "mean     0.381594   32.204208  \n",
      "std      0.806057   49.693429  \n",
      "min      0.000000    0.000000  \n",
      "25%      0.000000    7.910400  \n",
      "50%      0.000000   14.454200  \n",
      "75%      0.000000   31.000000  \n",
      "max      6.000000  512.329200  \n",
      "       PassengerId      Pclass         Age       SibSp       Parch        Fare\n",
      "count   418.000000  418.000000  332.000000  418.000000  418.000000  417.000000\n",
      "mean   1100.500000    2.265550   30.272590    0.447368    0.392344   35.627188\n",
      "std     120.810458    0.841838   14.181209    0.896760    0.981429   55.907576\n",
      "min     892.000000    1.000000    0.170000    0.000000    0.000000    0.000000\n",
      "25%     996.250000    1.000000   21.000000    0.000000    0.000000    7.895800\n",
      "50%    1100.500000    3.000000   27.000000    0.000000    0.000000   14.454200\n",
      "75%    1204.750000    3.000000   39.000000    1.000000    0.000000   31.500000\n",
      "max    1309.000000    3.000000   76.000000    8.000000    9.000000  512.329200\n"
     ]
    }
   ],
   "source": [
    "print(train.describe())\n",
    "print(test.describe())\n",
    "train = train.drop(['Name', 'Cabin'], axis=1)\n",
    "test = test.drop(['Name', 'Cabin'], axis=1)\n",
    "\n"
   ]
  },
  {
   "cell_type": "code",
   "execution_count": 94,
   "metadata": {},
   "outputs": [
    {
     "name": "stdout",
     "output_type": "stream",
     "text": [
      "      0    1     2    3    4    5         6    7      8    9   ...   18   19  \\\n",
      "0    1.0  3.0  34.5  1.0  0.0  0.0    7.8292  9.0  103.5  3.0  ...  1.0  0.0   \n",
      "1    1.0  3.0  47.0  0.0  1.0  0.0    7.0000  9.0  141.0  0.0  ...  0.0  0.0   \n",
      "2    1.0  2.0  62.0  1.0  0.0  0.0    9.6875  4.0  124.0  2.0  ...  1.0  0.0   \n",
      "3    1.0  3.0  27.0  1.0  0.0  0.0    8.6625  9.0   81.0  3.0  ...  1.0  0.0   \n",
      "4    1.0  3.0  22.0  0.0  1.0  1.0   12.2875  9.0   66.0  0.0  ...  0.0  0.0   \n",
      "..   ...  ...   ...  ...  ...  ...       ...  ...    ...  ...  ...  ...  ...   \n",
      "413  1.0  3.0   0.0  1.0  0.0  0.0    8.0500  9.0    0.0  3.0  ...  1.0  0.0   \n",
      "414  1.0  1.0  39.0  0.0  0.0  0.0  108.9000  1.0   39.0  0.0  ...  0.0  0.0   \n",
      "415  1.0  3.0  38.5  1.0  0.0  0.0    7.2500  9.0  115.5  3.0  ...  1.0  0.0   \n",
      "416  1.0  3.0   0.0  1.0  0.0  0.0    8.0500  9.0    0.0  3.0  ...  1.0  0.0   \n",
      "417  1.0  3.0   0.0  1.0  1.0  1.0   22.3583  9.0    0.0  3.0  ...  1.0  1.0   \n",
      "\n",
      "      20       21   22   23       24   25       26            27  \n",
      "0    0.0   7.8292  0.0  0.0   0.0000  0.0   0.0000     61.296373  \n",
      "1    0.0   0.0000  1.0  0.0   7.0000  0.0   0.0000     49.000000  \n",
      "2    0.0   9.6875  0.0  0.0   0.0000  0.0   0.0000     93.847656  \n",
      "3    0.0   8.6625  0.0  0.0   0.0000  0.0   0.0000     75.038906  \n",
      "4    0.0   0.0000  1.0  1.0  12.2875  1.0  12.2875    150.982656  \n",
      "..   ...      ...  ...  ...      ...  ...      ...           ...  \n",
      "413  0.0   8.0500  0.0  0.0   0.0000  0.0   0.0000     64.802500  \n",
      "414  0.0   0.0000  0.0  0.0   0.0000  0.0   0.0000  11859.210000  \n",
      "415  0.0   7.2500  0.0  0.0   0.0000  0.0   0.0000     52.562500  \n",
      "416  0.0   8.0500  0.0  0.0   0.0000  0.0   0.0000     64.802500  \n",
      "417  1.0  22.3583  1.0  1.0  22.3583  1.0  22.3583    499.893579  \n",
      "\n",
      "[418 rows x 28 columns]\n"
     ]
    }
   ],
   "source": [
    "train['Age'] = np.nan_to_num(train['Age'])\n",
    "test['Age'] = np.nan_to_num(test['Age'])\n",
    "test['Fare'] = np.nan_to_num(test['Fare'])\n",
    "\n",
    "for df in [train, test]:\n",
    "    df['Sex_binary']=df['Sex'].map({'male':1, 'female':0})\n",
    "\n",
    "features = ['Pclass', 'Age', 'Sex_binary', 'SibSp', 'Parch', 'Fare']\n",
    "\n",
    "pipe = Pipeline(['scaler', RobustScaler()])\n",
    "\n",
    "\n",
    "pf = PolynomialFeatures()\n",
    "pf.fit(train[features])\n",
    "train_features = pd.DataFrame(pf.transform(train[features]))\n",
    "test_features = pd.DataFrame(pf.transform(test[features]))\n",
    "\n",
    "si = SimpleImputer(strategy='most_frequent', add_indicator=True)\n",
    "si.fit(train[features])\n",
    "\n",
    "\n",
    "\n",
    "print(test_features)\n",
    "\n",
    "\n",
    "target = 'Survived'"
   ]
  },
  {
   "cell_type": "code",
   "execution_count": 95,
   "metadata": {},
   "outputs": [],
   "source": [
    "tuned_parameters = [{'n_estimators': [5, 10, 100, 500], 'max_features': ['auto', 'sqrt', 2, 5, 10, 25], 'max_depth': [None, 3, 5, 50]}]\n",
    "\n",
    "clf = GridSearchCV(\n",
    "    RandomForestClassifier(), tuned_parameters\n",
    ")"
   ]
  },
  {
   "cell_type": "code",
   "execution_count": 96,
   "metadata": {},
   "outputs": [
    {
     "name": "stdout",
     "output_type": "stream",
     "text": [
      "{'max_depth': 5, 'max_features': 'sqrt', 'n_estimators': 100}\n",
      "0.794 (+/-0.082) for {'max_depth': None, 'max_features': 'auto', 'n_estimators': 5}\n",
      "0.801 (+/-0.065) for {'max_depth': None, 'max_features': 'auto', 'n_estimators': 10}\n",
      "0.822 (+/-0.067) for {'max_depth': None, 'max_features': 'auto', 'n_estimators': 100}\n",
      "0.816 (+/-0.078) for {'max_depth': None, 'max_features': 'auto', 'n_estimators': 500}\n",
      "0.794 (+/-0.039) for {'max_depth': None, 'max_features': 'sqrt', 'n_estimators': 5}\n",
      "0.806 (+/-0.051) for {'max_depth': None, 'max_features': 'sqrt', 'n_estimators': 10}\n",
      "0.823 (+/-0.069) for {'max_depth': None, 'max_features': 'sqrt', 'n_estimators': 100}\n",
      "0.814 (+/-0.077) for {'max_depth': None, 'max_features': 'sqrt', 'n_estimators': 500}\n",
      "0.796 (+/-0.038) for {'max_depth': None, 'max_features': 2, 'n_estimators': 5}\n",
      "0.811 (+/-0.039) for {'max_depth': None, 'max_features': 2, 'n_estimators': 10}\n",
      "0.805 (+/-0.054) for {'max_depth': None, 'max_features': 2, 'n_estimators': 100}\n",
      "0.816 (+/-0.065) for {'max_depth': None, 'max_features': 2, 'n_estimators': 500}\n",
      "0.810 (+/-0.052) for {'max_depth': None, 'max_features': 5, 'n_estimators': 5}\n",
      "0.811 (+/-0.061) for {'max_depth': None, 'max_features': 5, 'n_estimators': 10}\n",
      "0.810 (+/-0.063) for {'max_depth': None, 'max_features': 5, 'n_estimators': 100}\n",
      "0.812 (+/-0.077) for {'max_depth': None, 'max_features': 5, 'n_estimators': 500}\n",
      "0.807 (+/-0.044) for {'max_depth': None, 'max_features': 10, 'n_estimators': 5}\n",
      "0.805 (+/-0.076) for {'max_depth': None, 'max_features': 10, 'n_estimators': 10}\n",
      "0.798 (+/-0.071) for {'max_depth': None, 'max_features': 10, 'n_estimators': 100}\n",
      "0.813 (+/-0.078) for {'max_depth': None, 'max_features': 10, 'n_estimators': 500}\n",
      "0.790 (+/-0.052) for {'max_depth': None, 'max_features': 25, 'n_estimators': 5}\n",
      "0.815 (+/-0.058) for {'max_depth': None, 'max_features': 25, 'n_estimators': 10}\n",
      "0.803 (+/-0.078) for {'max_depth': None, 'max_features': 25, 'n_estimators': 100}\n",
      "0.808 (+/-0.074) for {'max_depth': None, 'max_features': 25, 'n_estimators': 500}\n",
      "0.783 (+/-0.047) for {'max_depth': 3, 'max_features': 'auto', 'n_estimators': 5}\n",
      "0.791 (+/-0.023) for {'max_depth': 3, 'max_features': 'auto', 'n_estimators': 10}\n",
      "0.802 (+/-0.019) for {'max_depth': 3, 'max_features': 'auto', 'n_estimators': 100}\n",
      "0.808 (+/-0.023) for {'max_depth': 3, 'max_features': 'auto', 'n_estimators': 500}\n",
      "0.792 (+/-0.022) for {'max_depth': 3, 'max_features': 'sqrt', 'n_estimators': 5}\n",
      "0.802 (+/-0.044) for {'max_depth': 3, 'max_features': 'sqrt', 'n_estimators': 10}\n",
      "0.806 (+/-0.021) for {'max_depth': 3, 'max_features': 'sqrt', 'n_estimators': 100}\n",
      "0.808 (+/-0.023) for {'max_depth': 3, 'max_features': 'sqrt', 'n_estimators': 500}\n",
      "0.768 (+/-0.093) for {'max_depth': 3, 'max_features': 2, 'n_estimators': 5}\n",
      "0.804 (+/-0.023) for {'max_depth': 3, 'max_features': 2, 'n_estimators': 10}\n",
      "0.795 (+/-0.056) for {'max_depth': 3, 'max_features': 2, 'n_estimators': 100}\n",
      "0.796 (+/-0.044) for {'max_depth': 3, 'max_features': 2, 'n_estimators': 500}\n",
      "0.780 (+/-0.085) for {'max_depth': 3, 'max_features': 5, 'n_estimators': 5}\n",
      "0.797 (+/-0.046) for {'max_depth': 3, 'max_features': 5, 'n_estimators': 10}\n",
      "0.808 (+/-0.023) for {'max_depth': 3, 'max_features': 5, 'n_estimators': 100}\n",
      "0.808 (+/-0.019) for {'max_depth': 3, 'max_features': 5, 'n_estimators': 500}\n",
      "0.794 (+/-0.059) for {'max_depth': 3, 'max_features': 10, 'n_estimators': 5}\n",
      "0.801 (+/-0.014) for {'max_depth': 3, 'max_features': 10, 'n_estimators': 10}\n",
      "0.806 (+/-0.019) for {'max_depth': 3, 'max_features': 10, 'n_estimators': 100}\n",
      "0.807 (+/-0.015) for {'max_depth': 3, 'max_features': 10, 'n_estimators': 500}\n",
      "0.807 (+/-0.011) for {'max_depth': 3, 'max_features': 25, 'n_estimators': 5}\n",
      "0.802 (+/-0.022) for {'max_depth': 3, 'max_features': 25, 'n_estimators': 10}\n",
      "0.810 (+/-0.009) for {'max_depth': 3, 'max_features': 25, 'n_estimators': 100}\n",
      "0.804 (+/-0.016) for {'max_depth': 3, 'max_features': 25, 'n_estimators': 500}\n",
      "0.804 (+/-0.035) for {'max_depth': 5, 'max_features': 'auto', 'n_estimators': 5}\n",
      "0.815 (+/-0.037) for {'max_depth': 5, 'max_features': 'auto', 'n_estimators': 10}\n",
      "0.823 (+/-0.038) for {'max_depth': 5, 'max_features': 'auto', 'n_estimators': 100}\n",
      "0.820 (+/-0.030) for {'max_depth': 5, 'max_features': 'auto', 'n_estimators': 500}\n",
      "0.806 (+/-0.040) for {'max_depth': 5, 'max_features': 'sqrt', 'n_estimators': 5}\n",
      "0.811 (+/-0.034) for {'max_depth': 5, 'max_features': 'sqrt', 'n_estimators': 10}\n",
      "0.825 (+/-0.032) for {'max_depth': 5, 'max_features': 'sqrt', 'n_estimators': 100}\n",
      "0.819 (+/-0.026) for {'max_depth': 5, 'max_features': 'sqrt', 'n_estimators': 500}\n",
      "0.809 (+/-0.023) for {'max_depth': 5, 'max_features': 2, 'n_estimators': 5}\n",
      "0.815 (+/-0.053) for {'max_depth': 5, 'max_features': 2, 'n_estimators': 10}\n",
      "0.819 (+/-0.023) for {'max_depth': 5, 'max_features': 2, 'n_estimators': 100}\n",
      "0.816 (+/-0.028) for {'max_depth': 5, 'max_features': 2, 'n_estimators': 500}\n",
      "0.815 (+/-0.050) for {'max_depth': 5, 'max_features': 5, 'n_estimators': 5}\n",
      "0.816 (+/-0.021) for {'max_depth': 5, 'max_features': 5, 'n_estimators': 10}\n",
      "0.824 (+/-0.042) for {'max_depth': 5, 'max_features': 5, 'n_estimators': 100}\n",
      "0.822 (+/-0.032) for {'max_depth': 5, 'max_features': 5, 'n_estimators': 500}\n",
      "0.816 (+/-0.056) for {'max_depth': 5, 'max_features': 10, 'n_estimators': 5}\n",
      "0.816 (+/-0.031) for {'max_depth': 5, 'max_features': 10, 'n_estimators': 10}\n",
      "0.816 (+/-0.039) for {'max_depth': 5, 'max_features': 10, 'n_estimators': 100}\n",
      "0.817 (+/-0.047) for {'max_depth': 5, 'max_features': 10, 'n_estimators': 500}\n",
      "0.816 (+/-0.060) for {'max_depth': 5, 'max_features': 25, 'n_estimators': 5}\n",
      "0.810 (+/-0.044) for {'max_depth': 5, 'max_features': 25, 'n_estimators': 10}\n",
      "0.818 (+/-0.062) for {'max_depth': 5, 'max_features': 25, 'n_estimators': 100}\n",
      "0.823 (+/-0.041) for {'max_depth': 5, 'max_features': 25, 'n_estimators': 500}\n",
      "0.792 (+/-0.070) for {'max_depth': 50, 'max_features': 'auto', 'n_estimators': 5}\n",
      "0.794 (+/-0.065) for {'max_depth': 50, 'max_features': 'auto', 'n_estimators': 10}\n",
      "0.811 (+/-0.057) for {'max_depth': 50, 'max_features': 'auto', 'n_estimators': 100}\n",
      "0.813 (+/-0.075) for {'max_depth': 50, 'max_features': 'auto', 'n_estimators': 500}\n",
      "0.803 (+/-0.082) for {'max_depth': 50, 'max_features': 'sqrt', 'n_estimators': 5}\n",
      "0.794 (+/-0.043) for {'max_depth': 50, 'max_features': 'sqrt', 'n_estimators': 10}\n",
      "0.809 (+/-0.045) for {'max_depth': 50, 'max_features': 'sqrt', 'n_estimators': 100}\n",
      "0.813 (+/-0.075) for {'max_depth': 50, 'max_features': 'sqrt', 'n_estimators': 500}\n",
      "0.796 (+/-0.046) for {'max_depth': 50, 'max_features': 2, 'n_estimators': 5}\n",
      "0.803 (+/-0.052) for {'max_depth': 50, 'max_features': 2, 'n_estimators': 10}\n",
      "0.806 (+/-0.069) for {'max_depth': 50, 'max_features': 2, 'n_estimators': 100}\n",
      "0.807 (+/-0.062) for {'max_depth': 50, 'max_features': 2, 'n_estimators': 500}\n",
      "0.794 (+/-0.039) for {'max_depth': 50, 'max_features': 5, 'n_estimators': 5}\n",
      "0.807 (+/-0.080) for {'max_depth': 50, 'max_features': 5, 'n_estimators': 10}\n",
      "0.808 (+/-0.068) for {'max_depth': 50, 'max_features': 5, 'n_estimators': 100}\n",
      "0.816 (+/-0.074) for {'max_depth': 50, 'max_features': 5, 'n_estimators': 500}\n",
      "0.796 (+/-0.074) for {'max_depth': 50, 'max_features': 10, 'n_estimators': 5}\n",
      "0.810 (+/-0.044) for {'max_depth': 50, 'max_features': 10, 'n_estimators': 10}\n",
      "0.814 (+/-0.069) for {'max_depth': 50, 'max_features': 10, 'n_estimators': 100}\n",
      "0.814 (+/-0.075) for {'max_depth': 50, 'max_features': 10, 'n_estimators': 500}\n",
      "0.798 (+/-0.090) for {'max_depth': 50, 'max_features': 25, 'n_estimators': 5}\n",
      "0.792 (+/-0.065) for {'max_depth': 50, 'max_features': 25, 'n_estimators': 10}\n",
      "0.813 (+/-0.056) for {'max_depth': 50, 'max_features': 25, 'n_estimators': 100}\n",
      "0.804 (+/-0.081) for {'max_depth': 50, 'max_features': 25, 'n_estimators': 500}\n"
     ]
    }
   ],
   "source": [
    "clf.fit(train_features, train[target])\n",
    "print(clf.best_params_)\n",
    "means = clf.cv_results_['mean_test_score']\n",
    "stds = clf.cv_results_['std_test_score']\n",
    "\n",
    "        "
   ]
  },
  {
   "cell_type": "code",
   "execution_count": null,
   "metadata": {},
   "outputs": [],
   "source": [
    "for mean, std, params in zip(means, stds, clf.cv_results_['params']):\n",
    "    print(\"%0.3f (+/-%0.03f) for %r\"\n",
    "          % (mean, std * 1.96, params))"
   ]
  },
  {
   "cell_type": "code",
   "execution_count": 102,
   "metadata": {},
   "outputs": [
    {
     "name": "stdout",
     "output_type": "stream",
     "text": [
      "[0.7677735233193145, 0.7801079656016572, 0.7834348126294646, 0.7901763856631725, 0.7912434875400163, 0.7923670830456343, 0.7924110225346809, 0.7924298537442722, 0.7935032326909799, 0.7935095097608438, 0.7935157868307074, 0.793528340970435, 0.7935534492498901, 0.7935660033896178, 0.7946707676856444, 0.7957567007720796, 0.7957629778419435, 0.7957692549118071, 0.795775531981671, 0.7968426338585148, 0.7980352771326344, 0.7980541083422259, 0.8013558470905782, 0.801393509509761, 0.8024480572468772, 0.8024731655263324, 0.8024919967359236, 0.802510827945515, 0.8025296591551063, 0.8025359362249702, 0.8035842068922227, 0.8035967610319503, 0.8036093151716779, 0.8036469775908607, 0.804732910677296, 0.8047705730964786, 0.8058251208335949, 0.8058439520431862, 0.8058690603226413, 0.8058690603226415, 0.805881614462369, 0.8069549934090766, 0.8069549934090766, 0.8069863787583955, 0.8069989328981233, 0.8070177641077144, 0.8080660347749671, 0.8080660347749671, 0.8080660347749671, 0.8080660347749671, 0.808122528403741, 0.8081350825434687, 0.8092084614901763, 0.8092398468394955, 0.8103195028560668, 0.810344611135522, 0.8103508882053857, 0.8103759964848409, 0.8103759964848409, 0.8114807607808675, 0.8114807607808675, 0.8114807607808675, 0.8114870378507313, 0.8115058690603227, 0.8126043562864854, 0.8126357416358043, 0.8126357416358043, 0.8126357416358045, 0.8137467830016949, 0.8137530600715586, 0.8137530600715586, 0.8148264390182662, 0.8148452702278577, 0.8148515472977215, 0.8148515472977215, 0.8159186491745654, 0.8159249262444291, 0.8159249262444291, 0.8159374803841566, 0.8159500345238844, 0.815956311593748, 0.8159814198732033, 0.8159876969430669, 0.8160002510827946, 0.817079907099366, 0.8181846713953925, 0.8193082669010107, 0.8193145439708743, 0.8204255853367648, 0.8215491808423827, 0.8215993974012932, 0.8226727763480006, 0.8226727763480008, 0.8227292699767748, 0.8237900947837549, 0.8249199673592367]\n"
     ]
    }
   ],
   "source": [
    "print(sorted(means))"
   ]
  },
  {
   "cell_type": "code",
   "execution_count": 97,
   "metadata": {},
   "outputs": [],
   "source": [
    "predictions = clf.predict(test_features)"
   ]
  },
  {
   "cell_type": "code",
   "execution_count": 98,
   "metadata": {},
   "outputs": [],
   "source": [
    "submission = pd.DataFrame({'PassengerId': test['PassengerId'], 'Survived': predictions})"
   ]
  },
  {
   "cell_type": "code",
   "execution_count": 99,
   "metadata": {},
   "outputs": [],
   "source": [
    "filename = 'Titanic Predictions 4.csv'"
   ]
  },
  {
   "cell_type": "code",
   "execution_count": null,
   "metadata": {},
   "outputs": [],
   "source": []
  },
  {
   "cell_type": "code",
   "execution_count": 100,
   "metadata": {},
   "outputs": [],
   "source": [
    "submission.to_csv(filename, index=False)"
   ]
  },
  {
   "cell_type": "code",
   "execution_count": 101,
   "metadata": {},
   "outputs": [
    {
     "name": "stdout",
     "output_type": "stream",
     "text": [
      "Saved File: Titanic Predictions 4.csv\n"
     ]
    }
   ],
   "source": [
    "print('Saved File: ' + filename)"
   ]
  },
  {
   "cell_type": "code",
   "execution_count": null,
   "metadata": {},
   "outputs": [],
   "source": []
  }
 ],
 "metadata": {
  "kernelspec": {
   "display_name": "Python 3",
   "language": "python",
   "name": "python3"
  },
  "language_info": {
   "codemirror_mode": {
    "name": "ipython",
    "version": 3
   },
   "file_extension": ".py",
   "mimetype": "text/x-python",
   "name": "python",
   "nbconvert_exporter": "python",
   "pygments_lexer": "ipython3",
   "version": "3.6.9"
  }
 },
 "nbformat": 4,
 "nbformat_minor": 4
}
