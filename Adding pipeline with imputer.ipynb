{
 "cells": [
  {
   "cell_type": "code",
   "execution_count": 131,
   "metadata": {},
   "outputs": [],
   "source": [
    "import os\n",
    "import pandas as pd\n",
    "import numpy as np\n",
    "from sklearn.ensemble import RandomForestClassifier\n",
    "from sklearn.model_selection import GridSearchCV\n",
    "from sklearn.preprocessing import PolynomialFeatures\n",
    "from sklearn.preprocessing import RobustScaler\n",
    "from sklearn.impute import SimpleImputer\n",
    "from sklearn.pipeline import Pipeline\n",
    "\n",
    "\n",
    "train = pd.read_csv('input/train.csv')\n",
    "test = pd.read_csv('input/test.csv')"
   ]
  },
  {
   "cell_type": "code",
   "execution_count": 132,
   "metadata": {
    "scrolled": true
   },
   "outputs": [
    {
     "name": "stdout",
     "output_type": "stream",
     "text": [
      "       PassengerId    Survived      Pclass         Age       SibSp  \\\n",
      "count   891.000000  891.000000  891.000000  714.000000  891.000000   \n",
      "mean    446.000000    0.383838    2.308642   29.699118    0.523008   \n",
      "std     257.353842    0.486592    0.836071   14.526497    1.102743   \n",
      "min       1.000000    0.000000    1.000000    0.420000    0.000000   \n",
      "25%     223.500000    0.000000    2.000000   20.125000    0.000000   \n",
      "50%     446.000000    0.000000    3.000000   28.000000    0.000000   \n",
      "75%     668.500000    1.000000    3.000000   38.000000    1.000000   \n",
      "max     891.000000    1.000000    3.000000   80.000000    8.000000   \n",
      "\n",
      "            Parch        Fare  \n",
      "count  891.000000  891.000000  \n",
      "mean     0.381594   32.204208  \n",
      "std      0.806057   49.693429  \n",
      "min      0.000000    0.000000  \n",
      "25%      0.000000    7.910400  \n",
      "50%      0.000000   14.454200  \n",
      "75%      0.000000   31.000000  \n",
      "max      6.000000  512.329200  \n",
      "       PassengerId      Pclass         Age       SibSp       Parch        Fare\n",
      "count   418.000000  418.000000  332.000000  418.000000  418.000000  417.000000\n",
      "mean   1100.500000    2.265550   30.272590    0.447368    0.392344   35.627188\n",
      "std     120.810458    0.841838   14.181209    0.896760    0.981429   55.907576\n",
      "min     892.000000    1.000000    0.170000    0.000000    0.000000    0.000000\n",
      "25%     996.250000    1.000000   21.000000    0.000000    0.000000    7.895800\n",
      "50%    1100.500000    3.000000   27.000000    0.000000    0.000000   14.454200\n",
      "75%    1204.750000    3.000000   39.000000    1.000000    0.000000   31.500000\n",
      "max    1309.000000    3.000000   76.000000    8.000000    9.000000  512.329200\n"
     ]
    }
   ],
   "source": [
    "print(train.describe())\n",
    "print(test.describe())\n",
    "train = train.drop(['Name', 'Cabin'], axis=1)\n",
    "test = test.drop(['Name', 'Cabin'], axis=1)\n",
    "\n"
   ]
  },
  {
   "cell_type": "code",
   "execution_count": 133,
   "metadata": {},
   "outputs": [],
   "source": [
    "for df in [train, test]:\n",
    "    df['Sex_binary']=df['Sex'].map({'male':1, 'female':0})\n",
    "\n",
    "features = ['Pclass', 'Age', 'Sex_binary', 'SibSp', 'Parch', 'Fare']\n",
    "\n",
    "pipe = Pipeline([('imputer', SimpleImputer(strategy='most_frequent', add_indicator=True)),\n",
    "                 ('poly', PolynomialFeatures()),\n",
    "                 ('scaler', RobustScaler()),\n",
    "                ])\n",
    "\n",
    "pipe.fit(train[features])\n",
    "train_features = pipe.transform(train[features])\n",
    "test_features = pipe.transform(test[features])\n",
    "\n",
    "target = 'Survived'"
   ]
  },
  {
   "cell_type": "code",
   "execution_count": 134,
   "metadata": {},
   "outputs": [],
   "source": [
    "tuned_parameters = [{'n_estimators': [5, 10, 100, 500], 'max_features': ['auto', 'sqrt', 2, 5, 10, 25], 'max_depth': [None, 3, 5, 10]}]\n",
    "\n",
    "clf = GridSearchCV(\n",
    "    RandomForestClassifier(), tuned_parameters\n",
    ")"
   ]
  },
  {
   "cell_type": "code",
   "execution_count": 135,
   "metadata": {},
   "outputs": [
    {
     "name": "stdout",
     "output_type": "stream",
     "text": [
      "{'max_depth': 5, 'max_features': 25, 'n_estimators': 100}\n"
     ]
    }
   ],
   "source": [
    "clf.fit(train_features, train[target])\n",
    "print(clf.best_params_)\n",
    "means = clf.cv_results_['mean_test_score']\n",
    "stds = clf.cv_results_['std_test_score']\n",
    "\n",
    "        "
   ]
  },
  {
   "cell_type": "code",
   "execution_count": 136,
   "metadata": {},
   "outputs": [
    {
     "name": "stdout",
     "output_type": "stream",
     "text": [
      "0.813 (+/-0.064) for {'max_depth': None, 'max_features': 'auto', 'n_estimators': 5}\n",
      "0.811 (+/-0.065) for {'max_depth': None, 'max_features': 'auto', 'n_estimators': 10}\n",
      "0.822 (+/-0.063) for {'max_depth': None, 'max_features': 'auto', 'n_estimators': 100}\n",
      "0.817 (+/-0.069) for {'max_depth': None, 'max_features': 'auto', 'n_estimators': 500}\n",
      "0.782 (+/-0.051) for {'max_depth': None, 'max_features': 'sqrt', 'n_estimators': 5}\n",
      "0.809 (+/-0.078) for {'max_depth': None, 'max_features': 'sqrt', 'n_estimators': 10}\n",
      "0.820 (+/-0.052) for {'max_depth': None, 'max_features': 'sqrt', 'n_estimators': 100}\n",
      "0.814 (+/-0.071) for {'max_depth': None, 'max_features': 'sqrt', 'n_estimators': 500}\n",
      "0.799 (+/-0.048) for {'max_depth': None, 'max_features': 2, 'n_estimators': 5}\n",
      "0.807 (+/-0.061) for {'max_depth': None, 'max_features': 2, 'n_estimators': 10}\n",
      "0.818 (+/-0.071) for {'max_depth': None, 'max_features': 2, 'n_estimators': 100}\n",
      "0.813 (+/-0.064) for {'max_depth': None, 'max_features': 2, 'n_estimators': 500}\n",
      "0.799 (+/-0.062) for {'max_depth': None, 'max_features': 5, 'n_estimators': 5}\n",
      "0.807 (+/-0.053) for {'max_depth': None, 'max_features': 5, 'n_estimators': 10}\n",
      "0.815 (+/-0.079) for {'max_depth': None, 'max_features': 5, 'n_estimators': 100}\n",
      "0.820 (+/-0.067) for {'max_depth': None, 'max_features': 5, 'n_estimators': 500}\n",
      "0.808 (+/-0.058) for {'max_depth': None, 'max_features': 10, 'n_estimators': 5}\n",
      "0.804 (+/-0.052) for {'max_depth': None, 'max_features': 10, 'n_estimators': 10}\n",
      "0.818 (+/-0.069) for {'max_depth': None, 'max_features': 10, 'n_estimators': 100}\n",
      "0.816 (+/-0.075) for {'max_depth': None, 'max_features': 10, 'n_estimators': 500}\n",
      "0.783 (+/-0.038) for {'max_depth': None, 'max_features': 25, 'n_estimators': 5}\n",
      "0.815 (+/-0.036) for {'max_depth': None, 'max_features': 25, 'n_estimators': 10}\n",
      "0.816 (+/-0.060) for {'max_depth': None, 'max_features': 25, 'n_estimators': 100}\n",
      "0.823 (+/-0.060) for {'max_depth': None, 'max_features': 25, 'n_estimators': 500}\n",
      "0.811 (+/-0.051) for {'max_depth': 3, 'max_features': 'auto', 'n_estimators': 5}\n",
      "0.818 (+/-0.039) for {'max_depth': 3, 'max_features': 'auto', 'n_estimators': 10}\n",
      "0.822 (+/-0.039) for {'max_depth': 3, 'max_features': 'auto', 'n_estimators': 100}\n",
      "0.820 (+/-0.038) for {'max_depth': 3, 'max_features': 'auto', 'n_estimators': 500}\n",
      "0.810 (+/-0.021) for {'max_depth': 3, 'max_features': 'sqrt', 'n_estimators': 5}\n",
      "0.805 (+/-0.047) for {'max_depth': 3, 'max_features': 'sqrt', 'n_estimators': 10}\n",
      "0.819 (+/-0.037) for {'max_depth': 3, 'max_features': 'sqrt', 'n_estimators': 100}\n",
      "0.820 (+/-0.037) for {'max_depth': 3, 'max_features': 'sqrt', 'n_estimators': 500}\n",
      "0.775 (+/-0.101) for {'max_depth': 3, 'max_features': 2, 'n_estimators': 5}\n",
      "0.773 (+/-0.028) for {'max_depth': 3, 'max_features': 2, 'n_estimators': 10}\n",
      "0.798 (+/-0.056) for {'max_depth': 3, 'max_features': 2, 'n_estimators': 100}\n",
      "0.808 (+/-0.050) for {'max_depth': 3, 'max_features': 2, 'n_estimators': 500}\n",
      "0.800 (+/-0.058) for {'max_depth': 3, 'max_features': 5, 'n_estimators': 5}\n",
      "0.819 (+/-0.044) for {'max_depth': 3, 'max_features': 5, 'n_estimators': 10}\n",
      "0.823 (+/-0.039) for {'max_depth': 3, 'max_features': 5, 'n_estimators': 100}\n",
      "0.820 (+/-0.035) for {'max_depth': 3, 'max_features': 5, 'n_estimators': 500}\n",
      "0.811 (+/-0.049) for {'max_depth': 3, 'max_features': 10, 'n_estimators': 5}\n",
      "0.820 (+/-0.050) for {'max_depth': 3, 'max_features': 10, 'n_estimators': 10}\n",
      "0.818 (+/-0.032) for {'max_depth': 3, 'max_features': 10, 'n_estimators': 100}\n",
      "0.817 (+/-0.036) for {'max_depth': 3, 'max_features': 10, 'n_estimators': 500}\n",
      "0.823 (+/-0.033) for {'max_depth': 3, 'max_features': 25, 'n_estimators': 5}\n",
      "0.817 (+/-0.032) for {'max_depth': 3, 'max_features': 25, 'n_estimators': 10}\n",
      "0.822 (+/-0.028) for {'max_depth': 3, 'max_features': 25, 'n_estimators': 100}\n",
      "0.824 (+/-0.039) for {'max_depth': 3, 'max_features': 25, 'n_estimators': 500}\n",
      "0.820 (+/-0.044) for {'max_depth': 5, 'max_features': 'auto', 'n_estimators': 5}\n",
      "0.826 (+/-0.042) for {'max_depth': 5, 'max_features': 'auto', 'n_estimators': 10}\n",
      "0.819 (+/-0.025) for {'max_depth': 5, 'max_features': 'auto', 'n_estimators': 100}\n",
      "0.822 (+/-0.035) for {'max_depth': 5, 'max_features': 'auto', 'n_estimators': 500}\n",
      "0.825 (+/-0.034) for {'max_depth': 5, 'max_features': 'sqrt', 'n_estimators': 5}\n",
      "0.817 (+/-0.037) for {'max_depth': 5, 'max_features': 'sqrt', 'n_estimators': 10}\n",
      "0.820 (+/-0.043) for {'max_depth': 5, 'max_features': 'sqrt', 'n_estimators': 100}\n",
      "0.822 (+/-0.032) for {'max_depth': 5, 'max_features': 'sqrt', 'n_estimators': 500}\n",
      "0.800 (+/-0.049) for {'max_depth': 5, 'max_features': 2, 'n_estimators': 5}\n",
      "0.814 (+/-0.030) for {'max_depth': 5, 'max_features': 2, 'n_estimators': 10}\n",
      "0.824 (+/-0.047) for {'max_depth': 5, 'max_features': 2, 'n_estimators': 100}\n",
      "0.818 (+/-0.036) for {'max_depth': 5, 'max_features': 2, 'n_estimators': 500}\n",
      "0.815 (+/-0.025) for {'max_depth': 5, 'max_features': 5, 'n_estimators': 5}\n",
      "0.826 (+/-0.046) for {'max_depth': 5, 'max_features': 5, 'n_estimators': 10}\n",
      "0.823 (+/-0.032) for {'max_depth': 5, 'max_features': 5, 'n_estimators': 100}\n",
      "0.825 (+/-0.038) for {'max_depth': 5, 'max_features': 5, 'n_estimators': 500}\n",
      "0.818 (+/-0.027) for {'max_depth': 5, 'max_features': 10, 'n_estimators': 5}\n",
      "0.820 (+/-0.038) for {'max_depth': 5, 'max_features': 10, 'n_estimators': 10}\n",
      "0.818 (+/-0.043) for {'max_depth': 5, 'max_features': 10, 'n_estimators': 100}\n",
      "0.819 (+/-0.031) for {'max_depth': 5, 'max_features': 10, 'n_estimators': 500}\n",
      "0.818 (+/-0.035) for {'max_depth': 5, 'max_features': 25, 'n_estimators': 5}\n",
      "0.823 (+/-0.055) for {'max_depth': 5, 'max_features': 25, 'n_estimators': 10}\n",
      "0.838 (+/-0.044) for {'max_depth': 5, 'max_features': 25, 'n_estimators': 100}\n",
      "0.836 (+/-0.059) for {'max_depth': 5, 'max_features': 25, 'n_estimators': 500}\n",
      "0.813 (+/-0.039) for {'max_depth': 10, 'max_features': 'auto', 'n_estimators': 5}\n",
      "0.829 (+/-0.071) for {'max_depth': 10, 'max_features': 'auto', 'n_estimators': 10}\n",
      "0.825 (+/-0.049) for {'max_depth': 10, 'max_features': 'auto', 'n_estimators': 100}\n",
      "0.829 (+/-0.046) for {'max_depth': 10, 'max_features': 'auto', 'n_estimators': 500}\n",
      "0.810 (+/-0.064) for {'max_depth': 10, 'max_features': 'sqrt', 'n_estimators': 5}\n",
      "0.820 (+/-0.053) for {'max_depth': 10, 'max_features': 'sqrt', 'n_estimators': 10}\n",
      "0.834 (+/-0.057) for {'max_depth': 10, 'max_features': 'sqrt', 'n_estimators': 100}\n",
      "0.833 (+/-0.056) for {'max_depth': 10, 'max_features': 'sqrt', 'n_estimators': 500}\n",
      "0.807 (+/-0.046) for {'max_depth': 10, 'max_features': 2, 'n_estimators': 5}\n",
      "0.828 (+/-0.061) for {'max_depth': 10, 'max_features': 2, 'n_estimators': 10}\n",
      "0.832 (+/-0.051) for {'max_depth': 10, 'max_features': 2, 'n_estimators': 100}\n",
      "0.829 (+/-0.036) for {'max_depth': 10, 'max_features': 2, 'n_estimators': 500}\n",
      "0.804 (+/-0.049) for {'max_depth': 10, 'max_features': 5, 'n_estimators': 5}\n",
      "0.822 (+/-0.030) for {'max_depth': 10, 'max_features': 5, 'n_estimators': 10}\n",
      "0.833 (+/-0.045) for {'max_depth': 10, 'max_features': 5, 'n_estimators': 100}\n",
      "0.828 (+/-0.052) for {'max_depth': 10, 'max_features': 5, 'n_estimators': 500}\n",
      "0.818 (+/-0.081) for {'max_depth': 10, 'max_features': 10, 'n_estimators': 5}\n",
      "0.829 (+/-0.050) for {'max_depth': 10, 'max_features': 10, 'n_estimators': 10}\n",
      "0.829 (+/-0.035) for {'max_depth': 10, 'max_features': 10, 'n_estimators': 100}\n",
      "0.829 (+/-0.055) for {'max_depth': 10, 'max_features': 10, 'n_estimators': 500}\n",
      "0.816 (+/-0.061) for {'max_depth': 10, 'max_features': 25, 'n_estimators': 5}\n",
      "0.818 (+/-0.056) for {'max_depth': 10, 'max_features': 25, 'n_estimators': 10}\n",
      "0.829 (+/-0.064) for {'max_depth': 10, 'max_features': 25, 'n_estimators': 100}\n",
      "0.833 (+/-0.050) for {'max_depth': 10, 'max_features': 25, 'n_estimators': 500}\n"
     ]
    }
   ],
   "source": [
    "for mean, std, params in zip(means, stds, clf.cv_results_['params']):\n",
    "    print(\"%0.3f (+/-%0.03f) for %r\"\n",
    "          % (mean, std * 1.96, params))"
   ]
  },
  {
   "cell_type": "code",
   "execution_count": 137,
   "metadata": {},
   "outputs": [
    {
     "name": "stdout",
     "output_type": "stream",
     "text": [
      "[0.7733098989391751, 0.7745213734228862, 0.7822923859142552, 0.7833908731404181, 0.7980290000627707, 0.7991400414286611, 0.799146318498525, 0.8002699140041427, 0.8002699140041429, 0.8036218693114054, 0.8036344234511331, 0.8047454648170234, 0.8069801016885318, 0.8069863787583955, 0.8069926558282594, 0.8081099742640134, 0.8081288054736049, 0.809277509258678, 0.8103257799259305, 0.810369719414977, 0.8114305442219573, 0.8114556525014125, 0.8114933149205952, 0.812591802146758, 0.812591802146758, 0.8125980792166217, 0.8137091205825122, 0.8137467830016949, 0.8148138848785387, 0.8148327160881301, 0.814864101437449, 0.815956311593748, 0.8159625886636117, 0.8159939740129308, 0.8170547988199109, 0.8170610758897746, 0.8170799070993662, 0.8170987383089574, 0.8181595631159375, 0.8181595631159375, 0.8181721172556651, 0.8181783943255289, 0.8181909484652564, 0.8181909484652564, 0.8182035026049839, 0.8182160567447114, 0.8182223338145753, 0.818234887954303, 0.819295712761283, 0.8193019898311469, 0.8193082669010107, 0.8193145439708743, 0.8204067541271736, 0.8204067541271736, 0.8204130311970372, 0.8204130311970372, 0.8204381394764925, 0.8204381394764925, 0.8204444165463561, 0.8204506936162199, 0.8204632477559475, 0.8204695248258114, 0.8215240725629277, 0.8215491808423827, 0.8215491808423827, 0.8215491808423827, 0.8215617349821104, 0.8215742891218379, 0.8226476680685456, 0.822666499278137, 0.8226916075575922, 0.8226916075575922, 0.8227041616973197, 0.8237900947837551, 0.8238026489234824, 0.824913690289373, 0.8249262444291006, 0.8249450756386919, 0.826037285794991, 0.8260498399347185, 0.8283095850856821, 0.8283158621555458, 0.8294017952419811, 0.829408072311845, 0.8294206264515726, 0.8294269035214363, 0.8294331805913, 0.8294394576611637, 0.8294394576611637, 0.831680371602536, 0.8327976900382901, 0.832803967108154, 0.8328102441780176, 0.8339087314041805, 0.8361684765551441, 0.8383968363567886]\n"
     ]
    }
   ],
   "source": []
  },
  {
   "cell_type": "code",
   "execution_count": 138,
   "metadata": {},
   "outputs": [],
   "source": [
    "predictions = clf.predict(test_features)"
   ]
  },
  {
   "cell_type": "code",
   "execution_count": 139,
   "metadata": {},
   "outputs": [],
   "source": [
    "submission = pd.DataFrame({'PassengerId': test['PassengerId'], 'Survived': predictions})"
   ]
  },
  {
   "cell_type": "code",
   "execution_count": 145,
   "metadata": {},
   "outputs": [],
   "source": [
    "filename = 'data/Titanic Predictions 5.csv'"
   ]
  },
  {
   "cell_type": "code",
   "execution_count": null,
   "metadata": {},
   "outputs": [],
   "source": []
  },
  {
   "cell_type": "code",
   "execution_count": 146,
   "metadata": {},
   "outputs": [],
   "source": [
    "submission.to_csv(filename, index=False)"
   ]
  },
  {
   "cell_type": "code",
   "execution_count": 142,
   "metadata": {},
   "outputs": [
    {
     "name": "stdout",
     "output_type": "stream",
     "text": [
      "Saved File: Titanic Predictions 5.csv\n"
     ]
    }
   ],
   "source": [
    "print('Saved File: ' + filename)"
   ]
  },
  {
   "cell_type": "code",
   "execution_count": null,
   "metadata": {},
   "outputs": [],
   "source": []
  }
 ],
 "metadata": {
  "kernelspec": {
   "display_name": "Python 3",
   "language": "python",
   "name": "python3"
  },
  "language_info": {
   "codemirror_mode": {
    "name": "ipython",
    "version": 3
   },
   "file_extension": ".py",
   "mimetype": "text/x-python",
   "name": "python",
   "nbconvert_exporter": "python",
   "pygments_lexer": "ipython3",
   "version": "3.6.9"
  }
 },
 "nbformat": 4,
 "nbformat_minor": 4
}
